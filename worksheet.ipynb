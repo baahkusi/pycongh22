{
 "cells": [
  {
   "cell_type": "code",
   "execution_count": 120,
   "id": "dcc0fc31-e1ca-4b7d-aa24-7cb712dc6633",
   "metadata": {},
   "outputs": [],
   "source": [
    "import hashlib\n",
    "import binascii\n",
    "from bip_utils import (\n",
    "    Bip39SeedGenerator, Bip32Slip10Secp256k1, Bip32Slip10Ed25519,\n",
    "    Bip39MnemonicGenerator, Bip39Languages, Bip39WordsNum, Bip39MnemonicValidator, Bip39Mnemonic,\n",
    "    Bip44Changes, Bip84Coins, Bip84\n",
    ")\n",
    "from pytezos.crypto.encoding import base58_encode\n",
    "from pytezos.crypto import key\n",
    "import pytezos\n",
    "from eth_account import Account\n",
    "from bitcoin.wallet import CBitcoinSecret, CBech32BitcoinAddress, P2WPKHBitcoinAddress, CBitcoinAddress\n",
    "from bitcoin.core.key import CECKey, CPubKey\n",
    "from bitcoin.core.script import CScript,OP_0\n",
    "from bitcoin.core import Hash160\n",
    "import bitcoin\n",
    "import requests"
   ]
  },
  {
   "cell_type": "markdown",
   "id": "66883f8d-e10f-4ef9-baf6-f725fc06ed56",
   "metadata": {},
   "source": [
    "# HD Wallets(public key, private key, address)"
   ]
  },
  {
   "cell_type": "markdown",
   "id": "08f2249d-c221-442c-9fe4-d0d4e6384e86",
   "metadata": {},
   "source": [
    "## Mnemonics"
   ]
  },
  {
   "cell_type": "markdown",
   "id": "cf29b842-7451-4ac0-9f60-e2b26b3ab894",
   "metadata": {},
   "source": [
    "### Generate random mnemonic of twelve words"
   ]
  },
  {
   "cell_type": "code",
   "execution_count": 2,
   "id": "81cbce33-7497-4f0c-91cc-797ea892cd0d",
   "metadata": {},
   "outputs": [
    {
     "data": {
      "text/plain": [
       "'purse year quality awake paddle feel canvas cat bike profit maze this'"
      ]
     },
     "execution_count": 2,
     "metadata": {},
     "output_type": "execute_result"
    }
   ],
   "source": [
    "random_mnemonics = Bip39MnemonicGenerator(Bip39Languages.ENGLISH).FromWordsNumber(Bip39WordsNum.WORDS_NUM_12).ToStr()\n",
    "random_mnemonics"
   ]
  },
  {
   "cell_type": "markdown",
   "id": "25bb6363-4ecc-4f6f-b27f-f07bca578f46",
   "metadata": {},
   "source": [
    "### Validate Mnemonics"
   ]
  },
  {
   "cell_type": "code",
   "execution_count": 3,
   "id": "e1db35eb-1441-41e2-8cab-ca69ef279485",
   "metadata": {},
   "outputs": [
    {
     "data": {
      "text/plain": [
       "(False, True)"
      ]
     },
     "execution_count": 3,
     "metadata": {},
     "output_type": "execute_result"
    }
   ],
   "source": [
    "mnemonic = \"invalid abandon abandon abandon abandon abandon abandon abandon abandon abandon abandon about\"\n",
    "\n",
    "# Get if a mnemonic is valid with automatic language detection, return bool\n",
    "valid = Bip39MnemonicValidator(Bip39Languages.ENGLISH).IsValid(mnemonic)\n",
    "# Same but specifying the language\n",
    "not_valid = Bip39MnemonicValidator(Bip39Languages.ENGLISH).IsValid(random_mnemonics)\n",
    "\n",
    "valid, not_valid"
   ]
  },
  {
   "cell_type": "code",
   "execution_count": null,
   "id": "3e1a1bd0-d7ca-4357-9a1d-0f1541c2dc82",
   "metadata": {},
   "outputs": [],
   "source": []
  },
  {
   "cell_type": "code",
   "execution_count": 4,
   "id": "eb432524-b577-4f24-a729-b38058122d07",
   "metadata": {},
   "outputs": [],
   "source": [
    "# mnemonic = \"imitate embody law mammal exotic transfer roof hope price swift ordinary uncle\"\n",
    "mnemonic = 'chat style uncover beauty federal dish priority best then empty lesson flag'\n",
    "seed_bytes = Bip39SeedGenerator(mnemonic).Generate()"
   ]
  },
  {
   "cell_type": "code",
   "execution_count": 5,
   "id": "38bd73f5-582e-4c2a-897a-513756a04435",
   "metadata": {},
   "outputs": [],
   "source": [
    "TEZOS_PATH = \"m/44'/1729'/0'/0'\"\n",
    "ETHEREUM_PATH = \"m/44'/60'/0'/0/0\"\n",
    "BITCOIN_PATH_LEGACY = \"m/44'/0'/0'/0/0\"\n",
    "BITCOIN_PATH_SEGWIT = \"m/84'/0'/0'/0/0\""
   ]
  },
  {
   "cell_type": "markdown",
   "id": "e3607839-09ac-44aa-856c-3bfb3479ed17",
   "metadata": {},
   "source": [
    "### Tezos Key Store"
   ]
  },
  {
   "cell_type": "code",
   "execution_count": 32,
   "id": "71c3b28e-c33a-4d2f-8f65-c55beda3ddb5",
   "metadata": {},
   "outputs": [],
   "source": [
    "bip32_ctx = Bip32Slip10Ed25519.FromSeedAndPath(seed_bytes, TEZOS_PATH)"
   ]
  },
  {
   "cell_type": "code",
   "execution_count": 33,
   "id": "7fec8d5c-3430-4c67-a140-d2aed8bb17b7",
   "metadata": {},
   "outputs": [],
   "source": [
    "private_key_hex = bip32_ctx.PrivateKey().Raw().ToHex()"
   ]
  },
  {
   "cell_type": "code",
   "execution_count": 34,
   "id": "c95dc07e-102d-4330-affb-e289e5bf4de2",
   "metadata": {},
   "outputs": [
    {
     "data": {
      "text/plain": [
       "b'edsk2xWEMfyhLzafUqvgRVx3PsjNkbZJpCuiVCeMyK8DK78S4SNJxd'"
      ]
     },
     "execution_count": 34,
     "metadata": {},
     "output_type": "execute_result"
    }
   ],
   "source": [
    "tezos_private_key = base58_encode(bytes.fromhex(private_key_hex), prefix=b'edsk')\n",
    "tezos_private_key"
   ]
  },
  {
   "cell_type": "code",
   "execution_count": 35,
   "id": "7e24fcda-8a94-4b21-8796-9d23136b9fc2",
   "metadata": {},
   "outputs": [
    {
     "data": {
      "text/plain": [
       "'tz1SzAmjGiyrW2joqwbHBo1jeNGHrjXoE5tq'"
      ]
     },
     "execution_count": 35,
     "metadata": {},
     "output_type": "execute_result"
    }
   ],
   "source": [
    "tezos_account = key.Key.from_encoded_key(tezos_private_key)\n",
    "tezos_address = tezos_account.public_key_hash()\n",
    "tezos_address"
   ]
  },
  {
   "cell_type": "code",
   "execution_count": null,
   "id": "7af3fdbf-49b4-4784-93f2-623d914c69c4",
   "metadata": {},
   "outputs": [],
   "source": []
  },
  {
   "cell_type": "markdown",
   "id": "0e675aa4-7027-430a-a609-67f7941e473a",
   "metadata": {},
   "source": [
    "### Ethereum Key Store"
   ]
  },
  {
   "cell_type": "code",
   "execution_count": 27,
   "id": "9c91c518-6623-413d-aeaf-8e85a3851de6",
   "metadata": {},
   "outputs": [],
   "source": [
    "bip32_ctx = Bip32Slip10Secp256k1.FromSeedAndPath(seed_bytes, ETHEREUM_PATH)"
   ]
  },
  {
   "cell_type": "code",
   "execution_count": 28,
   "id": "905198d6-2307-43cb-a054-fdca6f463f25",
   "metadata": {},
   "outputs": [],
   "source": [
    "private_key_hex = bip32_ctx.PrivateKey().Raw().ToHex()"
   ]
  },
  {
   "cell_type": "code",
   "execution_count": 29,
   "id": "b89794d8-faaa-4b82-92bd-81c8f0a106a1",
   "metadata": {},
   "outputs": [
    {
     "data": {
      "text/plain": [
       "HexBytes('0xab4a0d5fcafaa7fb9fbe59690e0ae2ee6c94989a5c07da79c40bd152583d6900')"
      ]
     },
     "execution_count": 29,
     "metadata": {},
     "output_type": "execute_result"
    }
   ],
   "source": [
    "ethereum_account = Account.from_key(private_key_hex)\n",
    "ethereum_private_key = ethereum_account.privateKey\n",
    "ethereum_private_key"
   ]
  },
  {
   "cell_type": "code",
   "execution_count": 31,
   "id": "c56cf45f-a7e5-40cb-8e39-518f0fafb5cd",
   "metadata": {},
   "outputs": [
    {
     "data": {
      "text/plain": [
       "'0x1DEF760Eb8f81167dF93E27D8963a27895E3458f'"
      ]
     },
     "execution_count": 31,
     "metadata": {},
     "output_type": "execute_result"
    }
   ],
   "source": [
    "ethereum_address = ethereum_account.address\n",
    "ethereum_address"
   ]
  },
  {
   "cell_type": "code",
   "execution_count": null,
   "id": "aec17bef-76b4-4b97-9230-052668ea57ff",
   "metadata": {},
   "outputs": [],
   "source": []
  },
  {
   "cell_type": "markdown",
   "id": "84ffe099-b15c-4875-a136-eab0f221cd20",
   "metadata": {},
   "source": [
    "### Bitcoin Key Store"
   ]
  },
  {
   "cell_type": "code",
   "execution_count": 14,
   "id": "b0094881-88fe-495d-b7e3-919577fa3d2c",
   "metadata": {},
   "outputs": [],
   "source": [
    "bip32_ctx = Bip32Slip10Secp256k1.FromSeedAndPath(seed_bytes, BITCOIN_PATH_SEGWIT)"
   ]
  },
  {
   "cell_type": "code",
   "execution_count": 15,
   "id": "668a974a-2112-48db-84c9-2749737da784",
   "metadata": {},
   "outputs": [
    {
     "data": {
      "text/plain": [
       "b'9\\xd3{k\\x05O!\\xe4\\xf5F\\x07\\xc6\\x0bD\\x8b\\xd7\\xb5\\xc2d \\\\\\x92\\xb4I\\x81\\xc4\\xa43An.\\x9b'"
      ]
     },
     "execution_count": 15,
     "metadata": {},
     "output_type": "execute_result"
    }
   ],
   "source": [
    "private_key_bytes = bip32_ctx.PrivateKey().Raw().ToBytes()\n",
    "private_key_bytes"
   ]
  },
  {
   "cell_type": "code",
   "execution_count": 16,
   "id": "22f2095f-e526-4821-b539-16fbf935f906",
   "metadata": {},
   "outputs": [],
   "source": [
    "bitcoin_account = CBitcoinSecret.from_secret_bytes(private_key_bytes)"
   ]
  },
  {
   "cell_type": "code",
   "execution_count": 17,
   "id": "cbaf0f29-fffc-40e6-8b8a-1d5ab91204da",
   "metadata": {},
   "outputs": [
    {
     "data": {
      "text/plain": [
       "P2WPKHBitcoinAddress('bc1q3qwydrdrq4tsfcf2yp5u55ja423p0wx6ss5mhu')"
      ]
     },
     "execution_count": 17,
     "metadata": {},
     "output_type": "execute_result"
    }
   ],
   "source": [
    "script_pubkey = CScript([OP_0, Hash160(bitcoin_account.pub)])\n",
    "bitcoin_address = CBech32BitcoinAddress.from_scriptPubKey(script_pubkey)\n",
    "bitcoin_address"
   ]
  },
  {
   "cell_type": "code",
   "execution_count": 18,
   "id": "60efa5b8",
   "metadata": {},
   "outputs": [
    {
     "data": {
      "text/plain": [
       "'39d37b6b054f21e4f54607c60b448bd7b5c264205c92b44981c4a433416e2e9b01'"
      ]
     },
     "execution_count": 18,
     "metadata": {},
     "output_type": "execute_result"
    }
   ],
   "source": [
    "account.hex()"
   ]
  },
  {
   "cell_type": "markdown",
   "id": "913c9d5e",
   "metadata": {},
   "source": [
    "# Nodes, Indexers, Explorers"
   ]
  },
  {
   "cell_type": "markdown",
   "id": "7daecae2",
   "metadata": {},
   "source": [
    "## Block Explorers"
   ]
  },
  {
   "cell_type": "markdown",
   "id": "a5bc992e",
   "metadata": {},
   "source": [
    "Bitcoin, Ethereum, etc ...- https://blockchair.com/\n",
    "\n",
    "Bitcoin - https://blockstream.info/\n",
    "\n",
    "Ethereum - https://etherscan.io/\n",
    "\n",
    "Tezos - https://tzkt.io/"
   ]
  },
  {
   "cell_type": "code",
   "execution_count": null,
   "id": "d417b705",
   "metadata": {},
   "outputs": [],
   "source": []
  },
  {
   "cell_type": "markdown",
   "id": "7fb3bf67",
   "metadata": {},
   "source": [
    "## Indexers"
   ]
  },
  {
   "cell_type": "markdown",
   "id": "d9601cb1",
   "metadata": {},
   "source": [
    "Bitcoin - https://github.com/Blockstream/electrs\n",
    "\n",
    "Ethereum - https://etherscan.io/\n",
    "\n",
    "Tezos - https://api.tzkt.io/"
   ]
  },
  {
   "cell_type": "code",
   "execution_count": 41,
   "id": "3a7c1a7e",
   "metadata": {},
   "outputs": [],
   "source": [
    "# Tezos https://api.ghostnet.tzkt.io\n",
    "\n",
    "r = requests.get(f'https://api.ghostnet.tzkt.io/v1/accounts/{tezos_address}/balance')\n",
    "balance = int(r.text)/1000000\n",
    "\n",
    "r = requests.get(f'https://api.ghostnet.tzkt.io/v1/accounts/{tezos_address}/operations')\n",
    "history = r.json()"
   ]
  },
  {
   "cell_type": "code",
   "execution_count": 42,
   "id": "18b5400e",
   "metadata": {},
   "outputs": [
    {
     "data": {
      "text/plain": [
       "(89.999256,\n",
       " [{'type': 'transaction',\n",
       "   'id': 67253966995456,\n",
       "   'level': 1326979,\n",
       "   'timestamp': '2022-10-13T08:55:05Z',\n",
       "   'block': 'BM7AWg6YmHFqCy3WyZ5Ymu3GM7RgfkoSqZ4x2MPD6akXvHRSwoZ',\n",
       "   'hash': 'ooj8pWRHSbvmGAwbkSbk3JFCTqE7T83UP7iYWRJhADHRC7UJpdN',\n",
       "   'counter': 12228198,\n",
       "   'sender': {'address': 'tz1SzAmjGiyrW2joqwbHBo1jeNGHrjXoE5tq'},\n",
       "   'gasLimit': 1101,\n",
       "   'gasUsed': 1001,\n",
       "   'storageLimit': 100,\n",
       "   'storageUsed': 0,\n",
       "   'bakerFee': 374,\n",
       "   'storageFee': 0,\n",
       "   'allocationFee': 0,\n",
       "   'target': {'address': 'tz1R5X6pDpoxbMkY4AQJmUhRfEHjYN7dq66E'},\n",
       "   'amount': 10000000,\n",
       "   'status': 'applied',\n",
       "   'hasInternals': False},\n",
       "  {'type': 'reveal',\n",
       "   'id': 67253841166336,\n",
       "   'level': 1326976,\n",
       "   'timestamp': '2022-10-13T08:54:20Z',\n",
       "   'block': 'BKskGfrvCLAm3s3PmGAfAWf5LTA4jAs9hWcpas5pG7XTnee7mrH',\n",
       "   'hash': 'op1G62wZsNDGU1BjqTURqUr5EmrBG5Y2VfCX7KCgnJQ9pxuNXXi',\n",
       "   'sender': {'address': 'tz1SzAmjGiyrW2joqwbHBo1jeNGHrjXoE5tq'},\n",
       "   'counter': 12228197,\n",
       "   'gasLimit': 1000,\n",
       "   'gasUsed': 1000,\n",
       "   'storageLimit': 0,\n",
       "   'bakerFee': 370,\n",
       "   'status': 'applied'},\n",
       "  {'type': 'transaction',\n",
       "   'id': 67186931531776,\n",
       "   'level': 1325406,\n",
       "   'timestamp': '2022-10-13T02:01:40Z',\n",
       "   'block': 'BLTQbb8rwGfRZc5wt2MyA2e1WqK7RMWZ6qqYrngSdYdzYvgc2wj',\n",
       "   'hash': 'opJjj7jKS4s1VjDBz2QkiR6ynGqMHZkj6uMRXxmit8CZNxNRkaN',\n",
       "   'counter': 21481,\n",
       "   'sender': {'address': 'tz1VSUr8wwNhLAzempoch5d6hLRiTh8Cjcjb'},\n",
       "   'gasLimit': 1101,\n",
       "   'gasUsed': 1001,\n",
       "   'storageLimit': 257,\n",
       "   'storageUsed': 0,\n",
       "   'bakerFee': 402,\n",
       "   'storageFee': 0,\n",
       "   'allocationFee': 64250,\n",
       "   'target': {'address': 'tz1SzAmjGiyrW2joqwbHBo1jeNGHrjXoE5tq'},\n",
       "   'amount': 100000000,\n",
       "   'status': 'applied',\n",
       "   'hasInternals': False}])"
      ]
     },
     "execution_count": 42,
     "metadata": {},
     "output_type": "execute_result"
    }
   ],
   "source": [
    "balance, history"
   ]
  },
  {
   "cell_type": "code",
   "execution_count": 43,
   "id": "510542ad",
   "metadata": {},
   "outputs": [],
   "source": [
    "# Ethereum  https://api-sepolia.etherscan.io\n",
    "\n",
    "r = requests.get(f'https://api-sepolia.etherscan.io/api?module=account&action=balance&address=0x382b4ca2c4a7cd28c1c400c69d81ec2b2637f7dd&tag=latest')\n",
    "balance = int(r.json()['result'])/1000000000000000000\n",
    "\n",
    "r = requests.get(f'https://api-sepolia.etherscan.io/api?module=account&action=txlist&address=0x382b4ca2c4a7cd28c1c400c69d81ec2b2637f7dd&startblock=0&endblock=99999999&page=1&offset=10&sort=asc')\n",
    "history = r.json()\n",
    "# https://sepolia.etherscan.io/ https://sepolia-faucet.pk910.de/"
   ]
  },
  {
   "cell_type": "code",
   "execution_count": 23,
   "id": "8c9affb7",
   "metadata": {},
   "outputs": [
    {
     "data": {
      "text/plain": [
       "(21.50238249997988,\n",
       " {'status': '0',\n",
       "  'message': 'NOTOK',\n",
       "  'result': 'Max rate limit reached, please use API Key for higher rate limit'})"
      ]
     },
     "execution_count": 23,
     "metadata": {},
     "output_type": "execute_result"
    }
   ],
   "source": [
    "balance, history"
   ]
  },
  {
   "cell_type": "code",
   "execution_count": 24,
   "id": "fd21eb9e",
   "metadata": {},
   "outputs": [],
   "source": [
    "# Bitcoin https://blockstream.info/testnet/api\n"
   ]
  },
  {
   "cell_type": "markdown",
   "id": "5e1ab574",
   "metadata": {},
   "source": [
    "## Nodes"
   ]
  },
  {
   "cell_type": "markdown",
   "id": "48850ece",
   "metadata": {},
   "source": [
    "### Ethereum\n",
    "\n",
    "- https://infura.io\n",
    "- https://www.alchemy.com/\n",
    "\n",
    "### Tezos\n",
    "\n",
    "- https://mainnet.api.tez.ie\n",
    "- https://mainnet.smartpy.io\t\n",
    "- https://rpc.tzbeta.net/\t"
   ]
  },
  {
   "cell_type": "code",
   "execution_count": null,
   "id": "f3685dcd",
   "metadata": {},
   "outputs": [],
   "source": []
  },
  {
   "cell_type": "markdown",
   "id": "4bf0e260",
   "metadata": {},
   "source": [
    "# Sending Crypto"
   ]
  },
  {
   "cell_type": "markdown",
   "id": "af478a07",
   "metadata": {},
   "source": [
    "Sending crypto requires 3 steps\n",
    "\n",
    "1. Build transaction\n",
    "\n",
    "2. Sign transaction\n",
    "\n",
    "3. Broadcast transaction"
   ]
  },
  {
   "cell_type": "markdown",
   "id": "79ff2233",
   "metadata": {},
   "source": [
    "## Tezos"
   ]
  },
  {
   "cell_type": "code",
   "execution_count": 36,
   "id": "ff1cf852",
   "metadata": {},
   "outputs": [],
   "source": [
    "pytezos = pytezos.pytezos.using(shell=\"https://ghostnet.smartpy.io\", key=tezos_account)"
   ]
  },
  {
   "cell_type": "code",
   "execution_count": 37,
   "id": "e774ba89",
   "metadata": {},
   "outputs": [
    {
     "data": {
      "text/plain": [
       "{'chain_id': 'NetXnHfVqm9iesp',\n",
       " 'hash': 'op1G62wZsNDGU1BjqTURqUr5EmrBG5Y2VfCX7KCgnJQ9pxuNXXi',\n",
       " 'protocol': 'PtKathmankSpLLDALzWw7CGD2j2MtyveTwboEYokqUCP4a1LxMg',\n",
       " 'branch': 'BM8Dj1Shj52XGeTQY1y17U3mmVjGBs8UpB4xWKAdd24wLmBqFps',\n",
       " 'contents': [{'kind': 'reveal',\n",
       "   'source': 'tz1SzAmjGiyrW2joqwbHBo1jeNGHrjXoE5tq',\n",
       "   'fee': '370',\n",
       "   'counter': '12228197',\n",
       "   'gas_limit': '1000',\n",
       "   'storage_limit': '0',\n",
       "   'public_key': 'edpkuCAjDLjv1JnJNJndFWjyCRvQqQniJ2CQ4xtoQdAYsbzRo7nrSi'}],\n",
       " 'signature': 'sigw4RkqZCwTDVBK9FrQVgbArWRFbbstJzpn4oX3S1BXvEVjnE9Vm5DTkaYm4PuFeXBT3WoLJK2d7Uz5GAkzBVuDWSCHhdSX'}"
      ]
     },
     "execution_count": 37,
     "metadata": {},
     "output_type": "execute_result"
    }
   ],
   "source": [
    "pytezos.reveal().autofill().sign().inject()"
   ]
  },
  {
   "cell_type": "code",
   "execution_count": 39,
   "id": "2fe626bc",
   "metadata": {},
   "outputs": [],
   "source": [
    "tx = pytezos.transaction(destination='tz1R5X6pDpoxbMkY4AQJmUhRfEHjYN7dq66E', amount=10*1000000).autofill().sign().inject()"
   ]
  },
  {
   "cell_type": "code",
   "execution_count": 132,
   "id": "7a6620e8",
   "metadata": {},
   "outputs": [
    {
     "data": {
      "text/plain": [
       "{'chain_id': 'NetXnHfVqm9iesp',\n",
       " 'hash': 'onuBmZ13KRw8CNYa6tu79vBMAQKQMeDbNcbRpYRPh7x4mqTPbax',\n",
       " 'protocol': 'PtKathmankSpLLDALzWw7CGD2j2MtyveTwboEYokqUCP4a1LxMg',\n",
       " 'branch': 'BMTQ21L3Ke46YtYYTH2gg2zq4iyRUBV8nhv91A1E5YY462gYTuf',\n",
       " 'contents': [{'kind': 'transaction',\n",
       "   'source': 'tz1grSQDByRpnVs7sPtaprNZRp531ZKz6Jmm',\n",
       "   'fee': '373',\n",
       "   'counter': '393388',\n",
       "   'gas_limit': '1101',\n",
       "   'storage_limit': '100',\n",
       "   'amount': '10000000',\n",
       "   'destination': 'tz1R5X6pDpoxbMkY4AQJmUhRfEHjYN7dq66E'}],\n",
       " 'signature': 'sigsvGjkMX1P8zZh7r6gtTMxL7J9y4B2VWJHdEwyzMPCs7qDRGHT1QmbJWnSqw8rgd43jW9NSZ58wkosuutLFcfMMPitsfcF'}"
      ]
     },
     "execution_count": 132,
     "metadata": {},
     "output_type": "execute_result"
    }
   ],
   "source": [
    "tx"
   ]
  },
  {
   "cell_type": "code",
   "execution_count": 40,
   "id": "2f4ef82f",
   "metadata": {},
   "outputs": [
    {
     "data": {
      "text/plain": [
       "'ooj8pWRHSbvmGAwbkSbk3JFCTqE7T83UP7iYWRJhADHRC7UJpdN'"
      ]
     },
     "execution_count": 40,
     "metadata": {},
     "output_type": "execute_result"
    }
   ],
   "source": [
    "tx['hash']"
   ]
  },
  {
   "cell_type": "code",
   "execution_count": null,
   "id": "54b8c586",
   "metadata": {},
   "outputs": [],
   "source": []
  },
  {
   "cell_type": "markdown",
   "id": "0b64e961",
   "metadata": {},
   "source": [
    "## Ethereum"
   ]
  },
  {
   "cell_type": "code",
   "execution_count": 56,
   "id": "442bd312",
   "metadata": {},
   "outputs": [],
   "source": [
    "web3 = web3.Web3(Web3.HTTPProvider('https://sepolia.infura.io/v3/82de4c56f4364dd899635d8ebbc349cc'))"
   ]
  },
  {
   "cell_type": "code",
   "execution_count": 57,
   "id": "90d69af3",
   "metadata": {},
   "outputs": [
    {
     "data": {
      "text/plain": [
       "AttributeDict({'baseFeePerGas': 7,\n",
       " 'difficulty': 0,\n",
       " 'extraData': HexBytes('0x'),\n",
       " 'gasLimit': 30000000,\n",
       " 'gasUsed': 53934,\n",
       " 'hash': HexBytes('0xfdba95949e5354b1e8976f11364f7a3f03dafdc074013be360e29bf3c94db991'),\n",
       " 'logsBloom': HexBytes('0x00000000000000000000000000000000000000000000000000000000000000000000000000000000000000000000000000000000000000000000000000000000000000000000000000000000000000000000000000000000000000000000000000000000000000000000000000000000000000000000000000000000000000000000000000000000000000000000000000000000000000000000000000000000000000000000000000000000000000000000000000000000000000000000000000000000000000000000000000000000000000000000000000000000000000000000000000000000000000000000000000000000000000000000000000000000'),\n",
       " 'miner': '0xFf58d746A67C2E42bCC07d6B3F58406E8837E883',\n",
       " 'mixHash': HexBytes('0x69ae7b82f344ae575b9430c7f58e317fcddfee31aebe2d5f81de569ecec33e67'),\n",
       " 'nonce': HexBytes('0x0000000000000000'),\n",
       " 'number': 2079158,\n",
       " 'parentHash': HexBytes('0xfd51d9b20c65b47932568a8fe9d411d0baf530d9bbedfd20accaa6d43aefc7d1'),\n",
       " 'receiptsRoot': HexBytes('0x775f1796ef25b202822844538e21cef792e7fd2bd46a77a10cea47a82382cd4c'),\n",
       " 'sha3Uncles': HexBytes('0x1dcc4de8dec75d7aab85b567b6ccd41ad312451b948a7413f0a142fd40d49347'),\n",
       " 'size': 699,\n",
       " 'stateRoot': HexBytes('0x73c4b5acaad1513699b8d62fec33fefa0234b1b17ee603a8e3adcc9f8a3a238a'),\n",
       " 'timestamp': 1665660252,\n",
       " 'totalDifficulty': 17000018015853232,\n",
       " 'transactions': [HexBytes('0x7ba2e0750b088416e8407e6a409ca450c3c54c7184ad003b8060ecc0f51a1cd8')],\n",
       " 'transactionsRoot': HexBytes('0x6ba8cd8dbaff39a8aebb2b77d03b87e7fcf67e2c645c179290a820fec819216a'),\n",
       " 'uncles': []})"
      ]
     },
     "execution_count": 57,
     "metadata": {},
     "output_type": "execute_result"
    }
   ],
   "source": [
    "web3.eth.get_block('latest')"
   ]
  },
  {
   "cell_type": "code",
   "execution_count": 113,
   "id": "d8f87409",
   "metadata": {},
   "outputs": [],
   "source": [
    "nonce = web3.eth.get_transaction_count(ethereum_address)"
   ]
  },
  {
   "cell_type": "code",
   "execution_count": 114,
   "id": "1da8dd05",
   "metadata": {},
   "outputs": [],
   "source": [
    "tr = {\n",
    "    'to': web3.toChecksumAddress('0x9cBdFe782E9aa4cefcC572b90a6a8F5422AD22E8'),\n",
    "    'value': w3.to_wei(0.001, 'gwei'),\n",
    "    'gasPrice': web3.to_wei(5, 'gwei'), \n",
    "    'nonce': nonce,\n",
    "    'gas': 100000,\n",
    "    'chainId': 11155111\n",
    "}"
   ]
  },
  {
   "cell_type": "code",
   "execution_count": 115,
   "id": "ed16d946",
   "metadata": {},
   "outputs": [],
   "source": [
    "signed_tx = web3.eth.account.sign_transaction(tr, ethereum_private_key)"
   ]
  },
  {
   "cell_type": "code",
   "execution_count": 116,
   "id": "d25e779d",
   "metadata": {},
   "outputs": [
    {
     "data": {
      "text/plain": [
       "SignedTransaction(rawTransaction=HexBytes('0xf86c0285012a05f200830186a0949cbdfe782e9aa4cefcc572b90a6a8f5422ad22e8830f4240808401546d71a099ab2a9b7c9ceedc8b7b07f1ad6ceceae26faba17f8290392f33148d6832d6dea07e76c408ec992ca58c6a1ef59ce5607745aa7445aa1cb7c7c7ba9054bf5f4dc8'), hash=HexBytes('0x34c0acb5eb4f5ba817e2f24db44ffb50fd2576a327ccce07308148152003071e'), r=69506290746578442433779168540379508436569397901387647719406124350074145396446, s=57201259858015671701172849162525924246440631533984305242652112475247016365512, v=22310257)"
      ]
     },
     "execution_count": 116,
     "metadata": {},
     "output_type": "execute_result"
    }
   ],
   "source": [
    "signed_tx"
   ]
  },
  {
   "cell_type": "code",
   "execution_count": 117,
   "id": "81c978a1",
   "metadata": {},
   "outputs": [],
   "source": [
    "tx_hash = web3.eth.send_raw_transaction(signed_tx.rawTransaction)"
   ]
  },
  {
   "cell_type": "code",
   "execution_count": 118,
   "id": "84c9de8c",
   "metadata": {},
   "outputs": [
    {
     "data": {
      "text/plain": [
       "HexBytes('0x34c0acb5eb4f5ba817e2f24db44ffb50fd2576a327ccce07308148152003071e')"
      ]
     },
     "execution_count": 118,
     "metadata": {},
     "output_type": "execute_result"
    }
   ],
   "source": [
    "tx_hash"
   ]
  },
  {
   "cell_type": "code",
   "execution_count": 106,
   "id": "a739b518",
   "metadata": {},
   "outputs": [
    {
     "data": {
      "text/plain": [
       "'0x1DEF760Eb8f81167dF93E27D8963a27895E3458f'"
      ]
     },
     "execution_count": 106,
     "metadata": {},
     "output_type": "execute_result"
    }
   ],
   "source": [
    "ethereum_address"
   ]
  },
  {
   "cell_type": "code",
   "execution_count": null,
   "id": "7e513342",
   "metadata": {},
   "outputs": [],
   "source": []
  }
 ],
 "metadata": {
  "kernelspec": {
   "display_name": "Python 3 (ipykernel)",
   "language": "python",
   "name": "python3"
  },
  "language_info": {
   "codemirror_mode": {
    "name": "ipython",
    "version": 3
   },
   "file_extension": ".py",
   "mimetype": "text/x-python",
   "name": "python",
   "nbconvert_exporter": "python",
   "pygments_lexer": "ipython3",
   "version": "3.10.6"
  }
 },
 "nbformat": 4,
 "nbformat_minor": 5
}
