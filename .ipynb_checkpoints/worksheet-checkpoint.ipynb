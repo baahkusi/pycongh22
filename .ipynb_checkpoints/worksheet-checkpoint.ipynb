{
 "cells": [
  {
   "cell_type": "code",
   "execution_count": 7,
   "id": "dcc0fc31-e1ca-4b7d-aa24-7cb712dc6633",
   "metadata": {},
   "outputs": [],
   "source": [
    "import binascii\n",
    "from bip_utils import (\n",
    "    Bip39SeedGenerator, Bip32Slip10Secp256k1, Bip32Slip10Ed25519,\n",
    "    Bip39MnemonicGenerator, Bip39Languages, Bip39WordsNum, Bip39MnemonicValidator, Bip39Mnemonic\n",
    ")\n",
    "from pytezos.crypto.encoding import base58_encode\n",
    "from pytezos.crypto import key\n",
    "from eth_account import Account\n",
    "import cryptos as c"
   ]
  },
  {
   "cell_type": "markdown",
   "id": "66883f8d-e10f-4ef9-baf6-f725fc06ed56",
   "metadata": {},
   "source": [
    "# HD Wallets(public key, private key, address)"
   ]
  },
  {
   "cell_type": "markdown",
   "id": "08f2249d-c221-442c-9fe4-d0d4e6384e86",
   "metadata": {},
   "source": [
    "## Mnemonics"
   ]
  },
  {
   "cell_type": "markdown",
   "id": "cf29b842-7451-4ac0-9f60-e2b26b3ab894",
   "metadata": {},
   "source": [
    "### Generate random mnemonic of twelve words"
   ]
  },
  {
   "cell_type": "code",
   "execution_count": 8,
   "id": "81cbce33-7497-4f0c-91cc-797ea892cd0d",
   "metadata": {},
   "outputs": [
    {
     "data": {
      "text/plain": [
       "'wing science case tide airport comfort oval address best document undo exchange'"
      ]
     },
     "execution_count": 8,
     "metadata": {},
     "output_type": "execute_result"
    }
   ],
   "source": [
    "random_mnemonics = Bip39MnemonicGenerator(Bip39Languages.ENGLISH).FromWordsNumber(Bip39WordsNum.WORDS_NUM_12).ToStr()\n",
    "random_mnemonics"
   ]
  },
  {
   "cell_type": "markdown",
   "id": "25bb6363-4ecc-4f6f-b27f-f07bca578f46",
   "metadata": {},
   "source": [
    "### Validate Mnemonics"
   ]
  },
  {
   "cell_type": "code",
   "execution_count": 9,
   "id": "e1db35eb-1441-41e2-8cab-ca69ef279485",
   "metadata": {},
   "outputs": [
    {
     "data": {
      "text/plain": [
       "(False, True)"
      ]
     },
     "execution_count": 9,
     "metadata": {},
     "output_type": "execute_result"
    }
   ],
   "source": [
    "mnemonic = \"invalid abandon abandon abandon abandon abandon abandon abandon abandon abandon abandon about\"\n",
    "\n",
    "# Get if a mnemonic is valid with automatic language detection, return bool\n",
    "valid = Bip39MnemonicValidator(Bip39Languages.ENGLISH).IsValid(mnemonic)\n",
    "# Same but specifying the language\n",
    "not_valid = Bip39MnemonicValidator(Bip39Languages.ENGLISH).IsValid(random_mnemonics)\n",
    "\n",
    "valid, not_valid"
   ]
  },
  {
   "cell_type": "code",
   "execution_count": null,
   "id": "3e1a1bd0-d7ca-4357-9a1d-0f1541c2dc82",
   "metadata": {},
   "outputs": [],
   "source": []
  },
  {
   "cell_type": "code",
   "execution_count": 10,
   "id": "eb432524-b577-4f24-a729-b38058122d07",
   "metadata": {},
   "outputs": [],
   "source": [
    "mnemonic = \"imitate embody law mammal exotic transfer roof hope price swift ordinary uncle\"\n",
    "seed_bytes = Bip39SeedGenerator(mnemonic).Generate()"
   ]
  },
  {
   "cell_type": "code",
   "execution_count": 11,
   "id": "38bd73f5-582e-4c2a-897a-513756a04435",
   "metadata": {},
   "outputs": [],
   "source": [
    "TEZOS_PATH = \"m/44'/1729'/0'/0'\"\n",
    "ETHEREUM_PATH = \"m/44'/60'/0'/0/0\"\n",
    "BITCOIN_PATH = \"m/44'/0'/0'/0/0\""
   ]
  },
  {
   "cell_type": "markdown",
   "id": "e3607839-09ac-44aa-856c-3bfb3479ed17",
   "metadata": {},
   "source": [
    "### Tezos Key Store"
   ]
  },
  {
   "cell_type": "code",
   "execution_count": 12,
   "id": "71c3b28e-c33a-4d2f-8f65-c55beda3ddb5",
   "metadata": {},
   "outputs": [],
   "source": [
    "bip32_ctx = Bip32Slip10Ed25519.FromSeedAndPath(seed_bytes, TEZOS_PATH)"
   ]
  },
  {
   "cell_type": "code",
   "execution_count": 13,
   "id": "7fec8d5c-3430-4c67-a140-d2aed8bb17b7",
   "metadata": {},
   "outputs": [],
   "source": [
    "private_key_hex = bip32_ctx.PrivateKey().Raw().ToHex()"
   ]
  },
  {
   "cell_type": "code",
   "execution_count": 14,
   "id": "c95dc07e-102d-4330-affb-e289e5bf4de2",
   "metadata": {},
   "outputs": [
    {
     "data": {
      "text/plain": [
       "b'edsk4UQZnRxW6zVQdM34Mrby65gHWdqPFNisQ6wFd1gXyJ6cib6MiT'"
      ]
     },
     "execution_count": 14,
     "metadata": {},
     "output_type": "execute_result"
    }
   ],
   "source": [
    "tezos_private_key = base58_encode(bytes.fromhex(private_key_hex), prefix=b'edsk')\n",
    "tezos_private_key"
   ]
  },
  {
   "cell_type": "code",
   "execution_count": 15,
   "id": "7e24fcda-8a94-4b21-8796-9d23136b9fc2",
   "metadata": {},
   "outputs": [
    {
     "data": {
      "text/plain": [
       "'tz1R5X6pDpoxbMkY4AQJmUhRfEHjYN7dq66E'"
      ]
     },
     "execution_count": 15,
     "metadata": {},
     "output_type": "execute_result"
    }
   ],
   "source": [
    "account = key.Key.from_encoded_key(tezos_private_key)\n",
    "tezos_address = account.public_key_hash()\n",
    "tezos_address"
   ]
  },
  {
   "cell_type": "code",
   "execution_count": null,
   "id": "7af3fdbf-49b4-4784-93f2-623d914c69c4",
   "metadata": {},
   "outputs": [],
   "source": []
  },
  {
   "cell_type": "markdown",
   "id": "0e675aa4-7027-430a-a609-67f7941e473a",
   "metadata": {},
   "source": [
    "### Ethereum Key Store"
   ]
  },
  {
   "cell_type": "code",
   "execution_count": 16,
   "id": "9c91c518-6623-413d-aeaf-8e85a3851de6",
   "metadata": {},
   "outputs": [],
   "source": [
    "bip32_ctx = Bip32Slip10Secp256k1.FromSeedAndPath(seed_bytes, ETHEREUM_PATH)"
   ]
  },
  {
   "cell_type": "code",
   "execution_count": 17,
   "id": "905198d6-2307-43cb-a054-fdca6f463f25",
   "metadata": {},
   "outputs": [],
   "source": [
    "private_key_hex = bip32_ctx.PrivateKey().Raw().ToHex()"
   ]
  },
  {
   "cell_type": "code",
   "execution_count": 18,
   "id": "b89794d8-faaa-4b82-92bd-81c8f0a106a1",
   "metadata": {},
   "outputs": [
    {
     "data": {
      "text/plain": [
       "HexBytes('0x396406888faded8920173dabece8976479b998429e70239b500014ed0164d6f3')"
      ]
     },
     "execution_count": 18,
     "metadata": {},
     "output_type": "execute_result"
    }
   ],
   "source": [
    "account = Account.from_key(private_key_hex)\n",
    "ethereum_private_key = account.privateKey\n",
    "ethereum_private_key"
   ]
  },
  {
   "cell_type": "code",
   "execution_count": 19,
   "id": "c56cf45f-a7e5-40cb-8e39-518f0fafb5cd",
   "metadata": {},
   "outputs": [
    {
     "data": {
      "text/plain": [
       "'0x5c862679fB3FF6a3a87A30a8222DF61E7eE8d841'"
      ]
     },
     "execution_count": 19,
     "metadata": {},
     "output_type": "execute_result"
    }
   ],
   "source": [
    "ethereum_address = account.address\n",
    "ethereum_address"
   ]
  },
  {
   "cell_type": "code",
   "execution_count": null,
   "id": "aec17bef-76b4-4b97-9230-052668ea57ff",
   "metadata": {},
   "outputs": [],
   "source": []
  },
  {
   "cell_type": "markdown",
   "id": "84ffe099-b15c-4875-a136-eab0f221cd20",
   "metadata": {},
   "source": [
    "### Bitcoin Key Store"
   ]
  },
  {
   "cell_type": "code",
   "execution_count": 20,
   "id": "b0094881-88fe-495d-b7e3-919577fa3d2c",
   "metadata": {},
   "outputs": [],
   "source": [
    "bip32_ctx = Bip32Slip10Secp256k1.FromSeedAndPath(seed_bytes, BITCOIN_PATH)"
   ]
  },
  {
   "cell_type": "code",
   "execution_count": 21,
   "id": "668a974a-2112-48db-84c9-2749737da784",
   "metadata": {},
   "outputs": [
    {
     "data": {
      "text/plain": [
       "'eae04f225475e7630e58efdbefe50a003efd7e2ade3e67e171e023e9278b6ea4'"
      ]
     },
     "execution_count": 21,
     "metadata": {},
     "output_type": "execute_result"
    }
   ],
   "source": [
    "private_key_bytes = bip32_ctx.PrivateKey().Raw().ToHex()\n",
    "private_key_bytes"
   ]
  },
  {
   "cell_type": "code",
   "execution_count": 22,
   "id": "d1ef59b7-77dc-4652-b4de-4da26b74ed98",
   "metadata": {},
   "outputs": [],
   "source": [
    "btc = c.Bitcoin()"
   ]
  },
  {
   "cell_type": "code",
   "execution_count": 29,
   "id": "420c4e3f-8ad1-4702-ba3c-19b7486e7067",
   "metadata": {},
   "outputs": [
    {
     "data": {
      "text/plain": [
       "'3JcQsTAHkM4tFpTUqCtyhyHdhmRcbj5jzR'"
      ]
     },
     "execution_count": 29,
     "metadata": {},
     "output_type": "execute_result"
    }
   ],
   "source": [
    "bitcoin_address = btc.privtop2w(private_key_hex)\n",
    "bitcoin_address"
   ]
  },
  {
   "cell_type": "code",
   "execution_count": null,
   "id": "22f2095f-e526-4821-b539-16fbf935f906",
   "metadata": {},
   "outputs": [],
   "source": []
  }
 ],
 "metadata": {
  "kernelspec": {
   "display_name": "Python 3 (ipykernel)",
   "language": "python",
   "name": "python3"
  },
  "language_info": {
   "codemirror_mode": {
    "name": "ipython",
    "version": 3
   },
   "file_extension": ".py",
   "mimetype": "text/x-python",
   "name": "python",
   "nbconvert_exporter": "python",
   "pygments_lexer": "ipython3",
   "version": "3.10.6"
  }
 },
 "nbformat": 4,
 "nbformat_minor": 5
}
