{
 "cells": [
  {
   "cell_type": "code",
   "execution_count": 61,
   "id": "dcc0fc31-e1ca-4b7d-aa24-7cb712dc6633",
   "metadata": {},
   "outputs": [],
   "source": [
    "import hashlib\n",
    "import binascii\n",
    "from bip_utils import (\n",
    "    Bip39SeedGenerator, Bip32Slip10Secp256k1, Bip32Slip10Ed25519,\n",
    "    Bip39MnemonicGenerator, Bip39Languages, Bip39WordsNum, Bip39MnemonicValidator, Bip39Mnemonic,\n",
    "    Bip44Changes, Bip84Coins, Bip84\n",
    ")\n",
    "from pytezos.crypto.encoding import base58_encode\n",
    "from pytezos.crypto import key\n",
    "import pytezos\n",
    "from eth_account import Account\n",
    "from bitcoin.wallet import CBitcoinSecret, CBech32BitcoinAddress, P2WPKHBitcoinAddress, CBitcoinAddress\n",
    "from bitcoin.core.key import CECKey, CPubKey\n",
    "from bitcoin.core.script import CScript,OP_0\n",
    "from bitcoin.core import Hash160\n",
    "import requests"
   ]
  },
  {
   "cell_type": "code",
   "execution_count": 111,
   "id": "1098d5d7",
   "metadata": {},
   "outputs": [
    {
     "data": {
      "text/plain": [
       "<function PyTezosClient.using at 0x7f9e2c0cbc70>\n",
       "Change current RPC endpoint and account (private key).\n",
       "\n",
       ":param shell: one of 'mainnet', '***net', or RPC node uri, or instance of :class:`pytezos.rpc.shell.ShellQuery`\n",
       ":param key: base58 encoded key, path to the faucet file, faucet file itself, alias from tezos-client, or `Key`\n",
       ":param mode: whether to use `readable` or `optimized` encoding for parameters/storage/other\n",
       ":returns: A copy of current object with changes applied"
      ]
     },
     "execution_count": 111,
     "metadata": {},
     "output_type": "execute_result"
    }
   ],
   "source": [
    "pytezos.pytezos.using"
   ]
  },
  {
   "cell_type": "markdown",
   "id": "66883f8d-e10f-4ef9-baf6-f725fc06ed56",
   "metadata": {},
   "source": [
    "# HD Wallets(public key, private key, address)"
   ]
  },
  {
   "cell_type": "markdown",
   "id": "08f2249d-c221-442c-9fe4-d0d4e6384e86",
   "metadata": {},
   "source": [
    "## Mnemonics"
   ]
  },
  {
   "cell_type": "markdown",
   "id": "cf29b842-7451-4ac0-9f60-e2b26b3ab894",
   "metadata": {},
   "source": [
    "### Generate random mnemonic of twelve words"
   ]
  },
  {
   "cell_type": "code",
   "execution_count": 23,
   "id": "81cbce33-7497-4f0c-91cc-797ea892cd0d",
   "metadata": {},
   "outputs": [
    {
     "data": {
      "text/plain": [
       "'lyrics size wet garbage arrange cable round visual mixed route shuffle dutch'"
      ]
     },
     "execution_count": 23,
     "metadata": {},
     "output_type": "execute_result"
    }
   ],
   "source": [
    "random_mnemonics = Bip39MnemonicGenerator(Bip39Languages.ENGLISH).FromWordsNumber(Bip39WordsNum.WORDS_NUM_12).ToStr()\n",
    "random_mnemonics"
   ]
  },
  {
   "cell_type": "markdown",
   "id": "25bb6363-4ecc-4f6f-b27f-f07bca578f46",
   "metadata": {},
   "source": [
    "### Validate Mnemonics"
   ]
  },
  {
   "cell_type": "code",
   "execution_count": 24,
   "id": "e1db35eb-1441-41e2-8cab-ca69ef279485",
   "metadata": {},
   "outputs": [
    {
     "data": {
      "text/plain": [
       "(False, True)"
      ]
     },
     "execution_count": 24,
     "metadata": {},
     "output_type": "execute_result"
    }
   ],
   "source": [
    "mnemonic = \"invalid abandon abandon abandon abandon abandon abandon abandon abandon abandon abandon about\"\n",
    "\n",
    "# Get if a mnemonic is valid with automatic language detection, return bool\n",
    "valid = Bip39MnemonicValidator(Bip39Languages.ENGLISH).IsValid(mnemonic)\n",
    "# Same but specifying the language\n",
    "not_valid = Bip39MnemonicValidator(Bip39Languages.ENGLISH).IsValid(random_mnemonics)\n",
    "\n",
    "valid, not_valid"
   ]
  },
  {
   "cell_type": "code",
   "execution_count": null,
   "id": "3e1a1bd0-d7ca-4357-9a1d-0f1541c2dc82",
   "metadata": {},
   "outputs": [],
   "source": []
  },
  {
   "cell_type": "code",
   "execution_count": 212,
   "id": "eb432524-b577-4f24-a729-b38058122d07",
   "metadata": {},
   "outputs": [],
   "source": [
    "# mnemonic = \"imitate embody law mammal exotic transfer roof hope price swift ordinary uncle\"\n",
    "mnemonic = 'chat style uncover beauty federal dish priority best then empty lesson flag'\n",
    "seed_bytes = Bip39SeedGenerator(mnemonic).Generate()"
   ]
  },
  {
   "cell_type": "code",
   "execution_count": 213,
   "id": "38bd73f5-582e-4c2a-897a-513756a04435",
   "metadata": {},
   "outputs": [],
   "source": [
    "TEZOS_PATH = \"m/44'/1729'/0'/0'\"\n",
    "ETHEREUM_PATH = \"m/44'/60'/0'/0/0\"\n",
    "BITCOIN_PATH_LEGACY = \"m/44'/0'/0'/0/0\"\n",
    "BITCOIN_PATH_SEGWIT = \"m/84'/0'/0'/0/0\""
   ]
  },
  {
   "cell_type": "markdown",
   "id": "e3607839-09ac-44aa-856c-3bfb3479ed17",
   "metadata": {},
   "source": [
    "### Tezos Key Store"
   ]
  },
  {
   "cell_type": "code",
   "execution_count": 214,
   "id": "71c3b28e-c33a-4d2f-8f65-c55beda3ddb5",
   "metadata": {},
   "outputs": [],
   "source": [
    "bip32_ctx = Bip32Slip10Ed25519.FromSeedAndPath(seed_bytes, TEZOS_PATH)"
   ]
  },
  {
   "cell_type": "code",
   "execution_count": 215,
   "id": "7fec8d5c-3430-4c67-a140-d2aed8bb17b7",
   "metadata": {},
   "outputs": [],
   "source": [
    "private_key_hex = bip32_ctx.PrivateKey().Raw().ToHex()"
   ]
  },
  {
   "cell_type": "code",
   "execution_count": 216,
   "id": "c95dc07e-102d-4330-affb-e289e5bf4de2",
   "metadata": {},
   "outputs": [
    {
     "data": {
      "text/plain": [
       "b'edsk2xWEMfyhLzafUqvgRVx3PsjNkbZJpCuiVCeMyK8DK78S4SNJxd'"
      ]
     },
     "execution_count": 216,
     "metadata": {},
     "output_type": "execute_result"
    }
   ],
   "source": [
    "tezos_private_key = base58_encode(bytes.fromhex(private_key_hex), prefix=b'edsk')\n",
    "tezos_private_key"
   ]
  },
  {
   "cell_type": "code",
   "execution_count": 217,
   "id": "7e24fcda-8a94-4b21-8796-9d23136b9fc2",
   "metadata": {},
   "outputs": [
    {
     "data": {
      "text/plain": [
       "'tz1SzAmjGiyrW2joqwbHBo1jeNGHrjXoE5tq'"
      ]
     },
     "execution_count": 217,
     "metadata": {},
     "output_type": "execute_result"
    }
   ],
   "source": [
    "account = key.Key.from_encoded_key(tezos_private_key)\n",
    "tezos_address = account.public_key_hash()\n",
    "tezos_address"
   ]
  },
  {
   "cell_type": "code",
   "execution_count": null,
   "id": "7af3fdbf-49b4-4784-93f2-623d914c69c4",
   "metadata": {},
   "outputs": [],
   "source": []
  },
  {
   "cell_type": "markdown",
   "id": "0e675aa4-7027-430a-a609-67f7941e473a",
   "metadata": {},
   "source": [
    "### Ethereum Key Store"
   ]
  },
  {
   "cell_type": "code",
   "execution_count": 218,
   "id": "9c91c518-6623-413d-aeaf-8e85a3851de6",
   "metadata": {},
   "outputs": [],
   "source": [
    "bip32_ctx = Bip32Slip10Secp256k1.FromSeedAndPath(seed_bytes, ETHEREUM_PATH)"
   ]
  },
  {
   "cell_type": "code",
   "execution_count": 219,
   "id": "905198d6-2307-43cb-a054-fdca6f463f25",
   "metadata": {},
   "outputs": [],
   "source": [
    "private_key_hex = bip32_ctx.PrivateKey().Raw().ToHex()"
   ]
  },
  {
   "cell_type": "code",
   "execution_count": 220,
   "id": "b89794d8-faaa-4b82-92bd-81c8f0a106a1",
   "metadata": {},
   "outputs": [
    {
     "data": {
      "text/plain": [
       "HexBytes('0xab4a0d5fcafaa7fb9fbe59690e0ae2ee6c94989a5c07da79c40bd152583d6900')"
      ]
     },
     "execution_count": 220,
     "metadata": {},
     "output_type": "execute_result"
    }
   ],
   "source": [
    "account = Account.from_key(private_key_hex)\n",
    "ethereum_private_key = account.privateKey\n",
    "ethereum_private_key"
   ]
  },
  {
   "cell_type": "code",
   "execution_count": 221,
   "id": "c56cf45f-a7e5-40cb-8e39-518f0fafb5cd",
   "metadata": {},
   "outputs": [
    {
     "data": {
      "text/plain": [
       "'0x1DEF760Eb8f81167dF93E27D8963a27895E3458f'"
      ]
     },
     "execution_count": 221,
     "metadata": {},
     "output_type": "execute_result"
    }
   ],
   "source": [
    "ethereum_address = account.address\n",
    "ethereum_address"
   ]
  },
  {
   "cell_type": "code",
   "execution_count": null,
   "id": "aec17bef-76b4-4b97-9230-052668ea57ff",
   "metadata": {},
   "outputs": [],
   "source": []
  },
  {
   "cell_type": "markdown",
   "id": "84ffe099-b15c-4875-a136-eab0f221cd20",
   "metadata": {},
   "source": [
    "### Bitcoin Key Store"
   ]
  },
  {
   "cell_type": "code",
   "execution_count": 222,
   "id": "b0094881-88fe-495d-b7e3-919577fa3d2c",
   "metadata": {},
   "outputs": [],
   "source": [
    "bip32_ctx = Bip32Slip10Secp256k1.FromSeedAndPath(seed_bytes, BITCOIN_PATH_SEGWIT)"
   ]
  },
  {
   "cell_type": "code",
   "execution_count": 223,
   "id": "668a974a-2112-48db-84c9-2749737da784",
   "metadata": {},
   "outputs": [
    {
     "data": {
      "text/plain": [
       "b'9\\xd3{k\\x05O!\\xe4\\xf5F\\x07\\xc6\\x0bD\\x8b\\xd7\\xb5\\xc2d \\\\\\x92\\xb4I\\x81\\xc4\\xa43An.\\x9b'"
      ]
     },
     "execution_count": 223,
     "metadata": {},
     "output_type": "execute_result"
    }
   ],
   "source": [
    "private_key_bytes = bip32_ctx.PrivateKey().Raw().ToBytes()\n",
    "private_key_bytes"
   ]
  },
  {
   "cell_type": "code",
   "execution_count": 224,
   "id": "22f2095f-e526-4821-b539-16fbf935f906",
   "metadata": {},
   "outputs": [],
   "source": [
    "account = CBitcoinSecret.from_secret_bytes(private_key_bytes)"
   ]
  },
  {
   "cell_type": "code",
   "execution_count": 225,
   "id": "cbaf0f29-fffc-40e6-8b8a-1d5ab91204da",
   "metadata": {},
   "outputs": [
    {
     "data": {
      "text/plain": [
       "P2WPKHBitcoinAddress('bc1q3qwydrdrq4tsfcf2yp5u55ja423p0wx6ss5mhu')"
      ]
     },
     "execution_count": 225,
     "metadata": {},
     "output_type": "execute_result"
    }
   ],
   "source": [
    "script_pubkey = CScript([OP_0, Hash160(account.pub)])\n",
    "bitcoin_address = CBech32BitcoinAddress.from_scriptPubKey(script_pubkey)\n",
    "bitcoin_address"
   ]
  },
  {
   "cell_type": "code",
   "execution_count": 226,
   "id": "60efa5b8",
   "metadata": {},
   "outputs": [
    {
     "data": {
      "text/plain": [
       "'39d37b6b054f21e4f54607c60b448bd7b5c264205c92b44981c4a433416e2e9b01'"
      ]
     },
     "execution_count": 226,
     "metadata": {},
     "output_type": "execute_result"
    }
   ],
   "source": [
    "account.hex()"
   ]
  },
  {
   "cell_type": "markdown",
   "id": "913c9d5e",
   "metadata": {},
   "source": [
    "# Nodes, Indexers, Explorers"
   ]
  },
  {
   "cell_type": "code",
   "execution_count": null,
   "id": "d2cea315",
   "metadata": {},
   "outputs": [],
   "source": []
  },
  {
   "cell_type": "markdown",
   "id": "7daecae2",
   "metadata": {},
   "source": [
    "## Block Explorers"
   ]
  },
  {
   "cell_type": "markdown",
   "id": "a5bc992e",
   "metadata": {},
   "source": [
    "Bitcoin, Ethereum, etc ...- https://blockchair.com/\n",
    "\n",
    "Bitcoin - https://blockstream.info/\n",
    "\n",
    "Ethereum - https://etherscan.io/\n",
    "\n",
    "Tezos - https://tzkt.io/"
   ]
  },
  {
   "cell_type": "code",
   "execution_count": null,
   "id": "d417b705",
   "metadata": {},
   "outputs": [],
   "source": []
  },
  {
   "cell_type": "markdown",
   "id": "7fb3bf67",
   "metadata": {},
   "source": [
    "## Indexers"
   ]
  },
  {
   "cell_type": "markdown",
   "id": "d9601cb1",
   "metadata": {},
   "source": [
    "Bitcoin - https://github.com/Blockstream/electrs\n",
    "\n",
    "Ethereum - https://etherscan.io/\n",
    "\n",
    "Tezos - https://api.tzkt.io/"
   ]
  },
  {
   "cell_type": "code",
   "execution_count": 167,
   "id": "3a7c1a7e",
   "metadata": {},
   "outputs": [],
   "source": [
    "# Tezos https://api.ghostnet.tzkt.io\n",
    "\n",
    "r = requests.get(f'https://api.ghostnet.tzkt.io/v1/accounts/{tezos_address}/balance')\n",
    "balance = int(r.text)/1000000\n",
    "\n",
    "r = requests.get(f'https://api.ghostnet.tzkt.io/v1/accounts/{tezos_address}/operations')\n",
    "history = r.json()"
   ]
  },
  {
   "cell_type": "code",
   "execution_count": 168,
   "id": "18b5400e",
   "metadata": {},
   "outputs": [
    {
     "data": {
      "text/plain": [
       "(100.0,\n",
       " [{'type': 'transaction',\n",
       "   'id': 67199478792192,\n",
       "   'level': 1325697,\n",
       "   'timestamp': '2022-10-13T03:17:45Z',\n",
       "   'block': 'BM8oJMj35dDDuTKAGcryBQryG6pX1oHZQWhN1vpMYrxRzouKQkr',\n",
       "   'hash': 'onxxzZXWVkDEi86xVqsN1wMwU8qTEieXmWWnKctHSaXv9jexpA1',\n",
       "   'counter': 21482,\n",
       "   'sender': {'address': 'tz1VSUr8wwNhLAzempoch5d6hLRiTh8Cjcjb'},\n",
       "   'gasLimit': 1101,\n",
       "   'gasUsed': 1001,\n",
       "   'storageLimit': 257,\n",
       "   'storageUsed': 0,\n",
       "   'bakerFee': 402,\n",
       "   'storageFee': 0,\n",
       "   'allocationFee': 64250,\n",
       "   'target': {'address': 'tz1Xi3qNt4bvNWDN1D1EmeNCddrDPZhC1zsM'},\n",
       "   'amount': 100000000,\n",
       "   'status': 'applied',\n",
       "   'hasInternals': False}])"
      ]
     },
     "execution_count": 168,
     "metadata": {},
     "output_type": "execute_result"
    }
   ],
   "source": [
    "balance, history"
   ]
  },
  {
   "cell_type": "code",
   "execution_count": 200,
   "id": "510542ad",
   "metadata": {},
   "outputs": [],
   "source": [
    "# Ethereum  https://api-sepolia.etherscan.io\n",
    "\n",
    "r = requests.get(f'https://api-sepolia.etherscan.io/api?module=account&action=balance&address=0x382b4ca2c4a7cd28c1c400c69d81ec2b2637f7dd&tag=latest')\n",
    "balance = int(r.json()['result'])/1000000000000000000\n",
    "\n",
    "r = requests.get(f'https://api-sepolia.etherscan.io/api?module=account&action=txlist&address=0x382b4ca2c4a7cd28c1c400c69d81ec2b2637f7dd&startblock=0&endblock=99999999&page=1&offset=10&sort=asc')\n",
    "history = r.json()\n",
    "# https://sepolia.etherscan.io/"
   ]
  },
  {
   "cell_type": "code",
   "execution_count": 201,
   "id": "8c9affb7",
   "metadata": {},
   "outputs": [
    {
     "data": {
      "text/plain": [
       "(21.50238249997988,\n",
       " {'status': '0',\n",
       "  'message': 'NOTOK',\n",
       "  'result': 'Max rate limit reached, please use API Key for higher rate limit'})"
      ]
     },
     "execution_count": 201,
     "metadata": {},
     "output_type": "execute_result"
    }
   ],
   "source": [
    "balance, history"
   ]
  },
  {
   "cell_type": "code",
   "execution_count": 199,
   "id": "fd21eb9e",
   "metadata": {},
   "outputs": [
    {
     "data": {
      "text/plain": [
       "21.50238249997988"
      ]
     },
     "execution_count": 199,
     "metadata": {},
     "output_type": "execute_result"
    }
   ],
   "source": [
    "# Bitcoin https://blockstream.info/testnet/api\n"
   ]
  },
  {
   "cell_type": "markdown",
   "id": "5e1ab574",
   "metadata": {},
   "source": [
    "## Nodes"
   ]
  },
  {
   "cell_type": "markdown",
   "id": "48850ece",
   "metadata": {},
   "source": [
    "### Ethereum\n",
    "\n",
    "- https://infura.io\n",
    "- https://www.alchemy.com/\n",
    "\n",
    "### Tezos\n",
    "\n",
    "- https://mainnet.api.tez.ie\n",
    "- https://mainnet.smartpy.io\t\n",
    "- https://rpc.tzbeta.net/\t"
   ]
  },
  {
   "cell_type": "code",
   "execution_count": null,
   "id": "f3685dcd",
   "metadata": {},
   "outputs": [],
   "source": []
  },
  {
   "cell_type": "markdown",
   "id": "4bf0e260",
   "metadata": {},
   "source": [
    "# Sending Crypto"
   ]
  },
  {
   "cell_type": "markdown",
   "id": "af478a07",
   "metadata": {},
   "source": [
    "Sending crypto requires 3 steps\n",
    "\n",
    "1. Build transaction\n",
    "\n",
    "2. Sign transaction\n",
    "\n",
    "3. Broadcast transaction"
   ]
  },
  {
   "cell_type": "markdown",
   "id": "79ff2233",
   "metadata": {},
   "source": [
    "## Tezos"
   ]
  },
  {
   "cell_type": "code",
   "execution_count": 129,
   "id": "ff1cf852",
   "metadata": {},
   "outputs": [
    {
     "data": {
      "text/plain": [
       "<pytezos.client.PyTezosClient object at 0x7f9e1e8d5480>\n",
       "\n",
       "Properties\n",
       ".key\t\ttz1Xi3qNt4bvNWDN1D1EmeNCddrDPZhC1zsM\n",
       ".shell\t\t['https://ghostnet.smartpy.io']\n",
       ".block_id\thead\n",
       "\n",
       "Helpers\n",
       ".account()\n",
       ".activate_account()\n",
       ".activate_protocol()\n",
       ".bake_block()\n",
       ".balance()\n",
       ".ballot()\n",
       ".bulk()\n",
       ".check_message()\n",
       ".contract()\n",
       ".delegation()\n",
       ".double_baking_evidence()\n",
       ".double_endorsement_evidence()\n",
       ".endorsement()\n",
       ".endorsement_with_slot()\n",
       ".failing_noop()\n",
       ".now()\n",
       ".operation()\n",
       ".operation_group()\n",
       ".origination()\n",
       ".proposals()\n",
       ".register_global_constant()\n",
       ".reveal()\n",
       ".seed_nonce_revelation()\n",
       ".sign_message()\n",
       ".sleep()\n",
       ".transaction()\n",
       ".using()\n",
       ".wait()"
      ]
     },
     "execution_count": 129,
     "metadata": {},
     "output_type": "execute_result"
    }
   ],
   "source": [
    "pytezos.pytezos.using(shell=\"https://ghostnet.smartpy.io\", key=account)"
   ]
  },
  {
   "cell_type": "code",
   "execution_count": 130,
   "id": "e774ba89",
   "metadata": {},
   "outputs": [
    {
     "ename": "RpcError",
     "evalue": "({'contract': 'tz1grSQDByRpnVs7sPtaprNZRp531ZKz6Jmm',\n  'id': 'proto.014-PtKathma.contract.previously_revealed_key',\n  'kind': 'branch'},)",
     "output_type": "error",
     "traceback": [
      "\u001b[0;31m---------------------------------------------------------------------------\u001b[0m",
      "\u001b[0;31mRpcError\u001b[0m                                  Traceback (most recent call last)",
      "Cell \u001b[0;32mIn [130], line 1\u001b[0m\n\u001b[0;32m----> 1\u001b[0m \u001b[43mpytezos\u001b[49m\u001b[38;5;241;43m.\u001b[39;49m\u001b[43mpytezos\u001b[49m\u001b[38;5;241;43m.\u001b[39;49m\u001b[43mreveal\u001b[49m\u001b[43m(\u001b[49m\u001b[43m)\u001b[49m\u001b[38;5;241;43m.\u001b[39;49m\u001b[43mautofill\u001b[49m\u001b[43m(\u001b[49m\u001b[43m)\u001b[49m\u001b[38;5;241m.\u001b[39msign()\u001b[38;5;241m.\u001b[39minject()\n",
      "File \u001b[0;32m~/.cache/pypoetry/virtualenvs/pycongh22-Ep0f718p-py3.10/lib/python3.10/site-packages/pytezos/jupyter.py:90\u001b[0m, in \u001b[0;36minline_doc.<locals>.CustomReprDescriptor.__get__.<locals>.MethodWrapper.__call__\u001b[0;34m(self, *args, **kwargs)\u001b[0m\n\u001b[1;32m     88\u001b[0m     \u001b[38;5;28;01mreturn\u001b[39;00m method(\u001b[38;5;241m*\u001b[39margs, \u001b[38;5;241m*\u001b[39m\u001b[38;5;241m*\u001b[39mkwargs)\n\u001b[1;32m     89\u001b[0m \u001b[38;5;28;01melse\u001b[39;00m:\n\u001b[0;32m---> 90\u001b[0m     \u001b[38;5;28;01mreturn\u001b[39;00m \u001b[43mmethod\u001b[49m\u001b[43m(\u001b[49m\u001b[38;5;28;43mself\u001b[39;49m\u001b[38;5;241;43m.\u001b[39;49m\u001b[43mobj\u001b[49m\u001b[43m,\u001b[49m\u001b[43m \u001b[49m\u001b[38;5;241;43m*\u001b[39;49m\u001b[43margs\u001b[49m\u001b[43m,\u001b[49m\u001b[43m \u001b[49m\u001b[38;5;241;43m*\u001b[39;49m\u001b[38;5;241;43m*\u001b[39;49m\u001b[43mkwargs\u001b[49m\u001b[43m)\u001b[49m\n",
      "File \u001b[0;32m~/.cache/pypoetry/virtualenvs/pycongh22-Ep0f718p-py3.10/lib/python3.10/site-packages/pytezos/operation/group.py:267\u001b[0m, in \u001b[0;36mOperationGroup.autofill\u001b[0;34m(self, gas_reserve, burn_reserve, counter, ttl, fee, gas_limit, storage_limit, **kwargs)\u001b[0m\n\u001b[1;32m    265\u001b[0m opg_with_metadata \u001b[38;5;241m=\u001b[39m opg\u001b[38;5;241m.\u001b[39mrun()\n\u001b[1;32m    266\u001b[0m \u001b[38;5;28;01mif\u001b[39;00m \u001b[38;5;129;01mnot\u001b[39;00m OperationResult\u001b[38;5;241m.\u001b[39mis_applied(opg_with_metadata):\n\u001b[0;32m--> 267\u001b[0m     \u001b[38;5;28;01mraise\u001b[39;00m RpcError\u001b[38;5;241m.\u001b[39mfrom_errors(OperationResult\u001b[38;5;241m.\u001b[39merrors(opg_with_metadata))\n\u001b[1;32m    269\u001b[0m fee_acc \u001b[38;5;241m=\u001b[39m \u001b[38;5;241m0\u001b[39m\n\u001b[1;32m    270\u001b[0m extra_size \u001b[38;5;241m=\u001b[39m \u001b[38;5;241m32\u001b[39m \u001b[38;5;241m+\u001b[39m \u001b[38;5;241m64\u001b[39m  \u001b[38;5;66;03m# size of serialized branch and signature + safe reserve\u001b[39;00m\n",
      "\u001b[0;31mRpcError\u001b[0m: ({'contract': 'tz1grSQDByRpnVs7sPtaprNZRp531ZKz6Jmm',\n  'id': 'proto.014-PtKathma.contract.previously_revealed_key',\n  'kind': 'branch'},)"
     ]
    }
   ],
   "source": [
    "pytezos.pytezos.reveal().autofill().sign().inject()"
   ]
  },
  {
   "cell_type": "code",
   "execution_count": 131,
   "id": "2fe626bc",
   "metadata": {},
   "outputs": [],
   "source": [
    "tx = pytezos.pytezos.transaction(destination='tz1R5X6pDpoxbMkY4AQJmUhRfEHjYN7dq66E', amount=10*1000000).autofill().sign().inject()"
   ]
  },
  {
   "cell_type": "code",
   "execution_count": 132,
   "id": "7a6620e8",
   "metadata": {},
   "outputs": [
    {
     "data": {
      "text/plain": [
       "{'chain_id': 'NetXnHfVqm9iesp',\n",
       " 'hash': 'onuBmZ13KRw8CNYa6tu79vBMAQKQMeDbNcbRpYRPh7x4mqTPbax',\n",
       " 'protocol': 'PtKathmankSpLLDALzWw7CGD2j2MtyveTwboEYokqUCP4a1LxMg',\n",
       " 'branch': 'BMTQ21L3Ke46YtYYTH2gg2zq4iyRUBV8nhv91A1E5YY462gYTuf',\n",
       " 'contents': [{'kind': 'transaction',\n",
       "   'source': 'tz1grSQDByRpnVs7sPtaprNZRp531ZKz6Jmm',\n",
       "   'fee': '373',\n",
       "   'counter': '393388',\n",
       "   'gas_limit': '1101',\n",
       "   'storage_limit': '100',\n",
       "   'amount': '10000000',\n",
       "   'destination': 'tz1R5X6pDpoxbMkY4AQJmUhRfEHjYN7dq66E'}],\n",
       " 'signature': 'sigsvGjkMX1P8zZh7r6gtTMxL7J9y4B2VWJHdEwyzMPCs7qDRGHT1QmbJWnSqw8rgd43jW9NSZ58wkosuutLFcfMMPitsfcF'}"
      ]
     },
     "execution_count": 132,
     "metadata": {},
     "output_type": "execute_result"
    }
   ],
   "source": [
    "tx"
   ]
  },
  {
   "cell_type": "code",
   "execution_count": 133,
   "id": "2f4ef82f",
   "metadata": {},
   "outputs": [
    {
     "data": {
      "text/plain": [
       "'onuBmZ13KRw8CNYa6tu79vBMAQKQMeDbNcbRpYRPh7x4mqTPbax'"
      ]
     },
     "execution_count": 133,
     "metadata": {},
     "output_type": "execute_result"
    }
   ],
   "source": [
    "tx['hash']"
   ]
  },
  {
   "cell_type": "code",
   "execution_count": null,
   "id": "54b8c586",
   "metadata": {},
   "outputs": [],
   "source": []
  }
 ],
 "metadata": {
  "kernelspec": {
   "display_name": "Python 3 (ipykernel)",
   "language": "python",
   "name": "python3"
  },
  "language_info": {
   "codemirror_mode": {
    "name": "ipython",
    "version": 3
   },
   "file_extension": ".py",
   "mimetype": "text/x-python",
   "name": "python",
   "nbconvert_exporter": "python",
   "pygments_lexer": "ipython3",
   "version": "3.10.6"
  }
 },
 "nbformat": 4,
 "nbformat_minor": 5
}
